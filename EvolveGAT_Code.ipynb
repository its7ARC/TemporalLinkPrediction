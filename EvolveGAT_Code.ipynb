{
  "nbformat": 4,
  "nbformat_minor": 0,
  "metadata": {
    "colab": {
      "name": "Final EvolveGAT2.ipynb",
      "provenance": [],
      "collapsed_sections": []
    },
    "kernelspec": {
      "name": "python3",
      "display_name": "Python 3"
    },
    "language_info": {
      "name": "python"
    },
    "accelerator": "GPU"
  },
  "cells": [
    {
      "cell_type": "markdown",
      "source": [
        "# EvolveGAT\n",
        "By-\n",
        "Akhil (2K19/CO/038)\n",
        "Anshuman Raj Chauhan (2K19/CO/067)"
      ],
      "metadata": {
        "id": "w6yCGmvaoFJo"
      }
    },
    {
      "cell_type": "markdown",
      "source": [
        "### Dependency Import"
      ],
      "metadata": {
        "id": "H4SGfIxboI5P"
      }
    },
    {
      "cell_type": "code",
      "source": [
        "!pip install -q torch-scatter -f https://data.pyg.org/whl/torch-1.10.0+cu113.html\n",
        "!pip install -q torch-sparse -f https://data.pyg.org/whl/torch-1.10.0+cu113.html\n",
        "!pip install -q git+https://github.com/benedekrozemberczki/pytorch_geometric_temporal.git\n",
        "!pip install -q git+https://github.com/pyg-team/pytorch_geometric.git"
      ],
      "metadata": {
        "id": "W4roYRFolSZg",
        "colab": {
          "base_uri": "https://localhost:8080/"
        },
        "outputId": "253d8be6-8d19-415d-f8d1-416c7ecbc25d"
      },
      "execution_count": null,
      "outputs": [
        {
          "output_type": "stream",
          "name": "stdout",
          "text": [
            "\u001b[K     |████████████████████████████████| 7.9 MB 5.4 MB/s \n",
            "\u001b[K     |████████████████████████████████| 3.5 MB 5.2 MB/s \n",
            "\u001b[K     |████████████████████████████████| 407 kB 5.3 MB/s \n",
            "\u001b[?25h  Building wheel for torch-geometric-temporal (setup.py) ... \u001b[?25l\u001b[?25hdone\n",
            "  Building wheel for torch-geometric (setup.py) ... \u001b[?25l\u001b[?25hdone\n",
            "  Building wheel for torch-geometric (setup.py) ... \u001b[?25l\u001b[?25hdone\n"
          ]
        }
      ]
    },
    {
      "cell_type": "code",
      "source": [
        ""
      ],
      "metadata": {
        "id": "ylaMfYigtD5U"
      },
      "execution_count": null,
      "outputs": []
    },
    {
      "cell_type": "code",
      "source": [
        ""
      ],
      "metadata": {
        "id": "5Y9J5VfIHwKh"
      },
      "execution_count": null,
      "outputs": []
    },
    {
      "cell_type": "markdown",
      "source": [
        "### Dataset"
      ],
      "metadata": {
        "id": "Jn18nJLXJAdW"
      }
    },
    {
      "cell_type": "code",
      "execution_count": null,
      "metadata": {
        "id": "-0kyTnAalK2n"
      },
      "outputs": [],
      "source": [
        "import torch\n",
        "from torch_geometric.loader import DataLoader \n",
        "import torch_geometric.transforms as T\n",
        "import random"
      ]
    },
    {
      "cell_type": "code",
      "source": [
        "#Bitcoin OTC\n",
        "import torch\n",
        "from torch_geometric.datasets import BitcoinOTC\n",
        "from torch_geometric.loader import DataLoader \n",
        "import torch_geometric.transforms as T\n",
        "import random\n",
        "\n",
        "dataset = BitcoinOTC(root = './data')\n",
        "dataset = dataset[:50]\n",
        "print(f'Dataset: {dataset}:')\n",
        "print('======================')\n",
        "print(f'Number of graphs: {len(dataset)}')\n",
        "print(f'Number of features: {dataset.num_features}')\n",
        "print(f'Number of classes: {dataset.num_classes}')\n",
        "print(f'Is Undirected:  {dataset[0].is_undirected()}')\n",
        "\n",
        "from sklearn.model_selection import train_test_split\n",
        "\n",
        "#train_test split\n",
        "#we can also use temporal_signal_split\n",
        "train_dataset, test_dataset = train_test_split(dataset, test_size = 0.2, shuffle = False)\n",
        "print(dataset[0])\n",
        "\n",
        "print(\"\")"
      ],
      "metadata": {
        "colab": {
          "base_uri": "https://localhost:8080/"
        },
        "id": "0tCe8WLXeeP2",
        "outputId": "0ac05fc7-10e3-4cfd-f5ae-c059aec66648"
      },
      "execution_count": null,
      "outputs": [
        {
          "output_type": "stream",
          "name": "stderr",
          "text": [
            "Downloading https://snap.stanford.edu/data/soc-sign-bitcoinotc.csv.gz\n",
            "Extracting data/raw/soc-sign-bitcoinotc.csv.gz\n",
            "Processing...\n",
            "Done!\n"
          ]
        },
        {
          "output_type": "stream",
          "name": "stdout",
          "text": [
            "Dataset: BitcoinOTC(50):\n",
            "======================\n",
            "Number of graphs: 50\n",
            "Number of features: 0\n",
            "Number of classes: 0\n",
            "Is Undirected:  False\n",
            "Data(edge_index=[2, 41], edge_attr=[41], num_nodes=6005)\n",
            "\n"
          ]
        }
      ]
    },
    {
      "cell_type": "code",
      "source": [
        "print(len(train_dataset))\n",
        "print(len(test_dataset))"
      ],
      "metadata": {
        "colab": {
          "base_uri": "https://localhost:8080/"
        },
        "id": "5val-ZngItp4",
        "outputId": "03a3d35f-f338-48d1-e243-144bfe0f40db"
      },
      "execution_count": null,
      "outputs": [
        {
          "output_type": "stream",
          "name": "stdout",
          "text": [
            "40\n",
            "10\n"
          ]
        }
      ]
    },
    {
      "cell_type": "code",
      "source": [
        ""
      ],
      "metadata": {
        "id": "fXH8n0xMtCx9"
      },
      "execution_count": null,
      "outputs": []
    },
    {
      "cell_type": "code",
      "source": [
        ""
      ],
      "metadata": {
        "id": "exdw_-SnI52y"
      },
      "execution_count": null,
      "outputs": []
    },
    {
      "cell_type": "markdown",
      "source": [
        "### Helper Functions"
      ],
      "metadata": {
        "id": "aE3fy0jAy3Js"
      }
    },
    {
      "cell_type": "code",
      "source": [
        "def normalizeAdjacency(W):\n",
        "    # Check that the matrix is square\n",
        "    assert W.shape[0] == W.shape[1]\n",
        "    # Compute the degree vector\n",
        "    d = torch.sum(W, axis = 1)\n",
        "    # Invert the square root of the degree\n",
        "    d = 1/torch.sqrt(d)\n",
        "    # And build the square root inverse degree matrix\n",
        "    D = torch.diag(d)\n",
        "    # Return the Normalized Adjacency\n",
        "    return D @ W @ D \n",
        "\n",
        "#Snapshot to adjacency matrix\n",
        "def snap_to_adjmat(snapshot):\n",
        "    x = torch.FloatTensor(torch.zeros(snapshot.num_nodes, snapshot.num_nodes))\n",
        "    for j in range(snapshot.edge_index.size()[1]):\n",
        "        v1 = snapshot.edge_index[:,j][0].item()\n",
        "        v2 = snapshot.edge_index[:,j][1].item()\n",
        "        x[v1][v2] = 1.0\n",
        "    for i in range(snapshot.num_nodes):\n",
        "        x[i][i] = 1.0\n",
        "\n",
        "    #symetric normalisation(High time complexity)\n",
        "    #x = normalizeAdjacency(x);\n",
        "    return x"
      ],
      "metadata": {
        "id": "MNA8Vjgoy3SG"
      },
      "execution_count": null,
      "outputs": []
    },
    {
      "cell_type": "code",
      "source": [
        "temp = snap_to_adjmat(dataset[0])\n",
        "print(temp.type())\n",
        "print(temp)"
      ],
      "metadata": {
        "colab": {
          "base_uri": "https://localhost:8080/"
        },
        "id": "LzrrXTLly3XI",
        "outputId": "2e43be38-6dd9-44b8-fa2f-5a6da3416e70"
      },
      "execution_count": null,
      "outputs": [
        {
          "output_type": "stream",
          "name": "stdout",
          "text": [
            "torch.FloatTensor\n",
            "tensor([[1., 0., 0.,  ..., 0., 0., 0.],\n",
            "        [0., 1., 0.,  ..., 0., 0., 0.],\n",
            "        [0., 0., 1.,  ..., 0., 0., 0.],\n",
            "        ...,\n",
            "        [0., 0., 0.,  ..., 1., 0., 0.],\n",
            "        [0., 0., 0.,  ..., 0., 1., 0.],\n",
            "        [0., 0., 0.,  ..., 0., 0., 1.]])\n"
          ]
        }
      ]
    },
    {
      "cell_type": "code",
      "source": [
        ""
      ],
      "metadata": {
        "id": "0MV0sSZqzUZr"
      },
      "execution_count": null,
      "outputs": []
    },
    {
      "cell_type": "code",
      "source": [
        "#Similarity index\n",
        "def similarity(vec1, vec2):\n",
        "    return torch.dot(vec1, vec2)"
      ],
      "metadata": {
        "id": "CYHMvP63zAyy"
      },
      "execution_count": null,
      "outputs": []
    },
    {
      "cell_type": "code",
      "source": [
        ""
      ],
      "metadata": {
        "id": "lbgwKwd9zMwW"
      },
      "execution_count": null,
      "outputs": []
    },
    {
      "cell_type": "code",
      "source": [
        "from typing import Optional, Tuple\n",
        "\n",
        "import torch\n",
        "from torch import Tensor\n",
        "from torch.nn import GRU\n",
        "from torch_geometric.typing import Adj, OptTensor\n",
        "from torch_sparse import SparseTensor\n",
        "from torch_geometric.nn.inits import glorot\n",
        "from torch_geometric.nn.conv import MessagePassing\n",
        "from torch_geometric.nn.conv.gcn_conv import gcn_norm\n",
        "\n",
        "class GCNConv_Fixed_W(MessagePassing):\n",
        "    _cached_edge_index: Optional[Tuple[Tensor, Tensor]]\n",
        "    _cached_adj_t: Optional[SparseTensor]\n",
        "\n",
        "    def __init__(self, in_channels: int, out_channels: int,\n",
        "                 improved: bool = False, cached: bool = False,\n",
        "                 add_self_loops: bool = True, normalize: bool = True,\n",
        "                **kwargs):\n",
        "\n",
        "        kwargs.setdefault('aggr', 'add')\n",
        "        super(GCNConv_Fixed_W, self).__init__(**kwargs)\n",
        "\n",
        "        self.in_channels = in_channels\n",
        "        self.out_channels = out_channels\n",
        "        self.improved = improved\n",
        "        self.cached = cached\n",
        "        self.add_self_loops = add_self_loops\n",
        "        self.normalize = normalize\n",
        "\n",
        "        self._cached_edge_index = None\n",
        "        self._cached_adj_t = None\n",
        "\n",
        "        self.reset_parameters()\n",
        "\n",
        "    def reset_parameters(self):\n",
        "        self._cached_edge_index = None\n",
        "        self._cached_adj_t = None\n",
        "\n",
        "\n",
        "    def forward(self, W: torch.FloatTensor, x: Tensor, edge_index: Adj,\n",
        "                edge_weight: OptTensor = None) -> Tensor:\n",
        "\n",
        "        if self.normalize:\n",
        "            cache = self._cached_edge_index\n",
        "            if cache is None:\n",
        "                edge_index, edge_weight = gcn_norm(  # yapf: disable\n",
        "                    edge_index, edge_weight, x.size(self.node_dim),\n",
        "                    self.improved, self.add_self_loops, dtype = float)\n",
        "\n",
        "        x = torch.matmul(x, W)\n",
        "\n",
        "        # propagate_type: (x: Tensor, edge_weight: OptTensor)\n",
        "        out = self.propagate(edge_index, x=x, edge_weight=edge_weight,\n",
        "                             size=None)\n",
        "\n",
        "        return out\n",
        "\n",
        "\n",
        "    def message(self, x_j: Tensor, edge_weight: OptTensor) -> Tensor:\n",
        "        return x_j if edge_weight is None else edge_weight.view(-1, 1) * x_j\n",
        "\n",
        "class attention(torch.nn.Module):\n",
        "  def __init__(self):\n",
        "    super(attention, self).__init__()\n",
        "\n",
        "  def forward(self, X: Tensor, edge_index: Adj) -> Tensor:\n",
        "    embed_prod = torch.zeros(X.shape[0], X.shape[0])\n",
        "    for i in range(X.shape[0]):\n",
        "      embed_prod[i] = torch.exp(torch.sum(torch.mul(X[i], X), axis = 1))\n",
        "    \n",
        "    alpha = torch.zeros(X.shape[0])\n",
        "    edges = edge_index.T\n",
        "    for edge in edges:\n",
        "      alpha[edge[0]] += embed_prod[edge[0]][edge[1]]\n",
        "    \n",
        "    for i in range(X.shape[0]):\n",
        "      alpha[i] += embed_prod[i][i]\n",
        "    \n",
        "    for i in range(X.shape[0]):\n",
        "      embed_prod[i] /= alpha[i]\n",
        "#    Y = X.detach()\n",
        "    Y = torch.zeros(X.shape[0], X.shape[1]).to(device)\n",
        "    for i in range(X.shape[0]):\n",
        "      Y[i] = torch.mul(embed_prod[i][i], X[i])\n",
        "    \n",
        "    for edge in edges:\n",
        "      Y[edge[0]] += torch.mul(embed_prod[edge[0]][edge[1]], X[edge[1]])\n",
        "    return X\n",
        "    \n",
        "class EvolveGCNO_(torch.nn.Module):\n",
        "    def __init__(\n",
        "        self,\n",
        "        in_channels: int,\n",
        "        improved: bool = False,\n",
        "        cached: bool = False,\n",
        "        normalize: bool = True,\n",
        "        add_self_loops: bool = True,\n",
        "    ):\n",
        "        super(EvolveGCNO_, self).__init__()\n",
        "\n",
        "        self.in_channels = in_channels\n",
        "        self.improved = improved\n",
        "        self.cached = cached\n",
        "        self.normalize = normalize\n",
        "        self.add_self_loops = add_self_loops\n",
        "        self.weight = None\n",
        "        self.initial_weight = torch.nn.Parameter(torch.Tensor(in_channels, in_channels))\n",
        "        self._create_layers()\n",
        "        self.reset_parameters()\n",
        "    \n",
        "    def reset_parameters(self):\n",
        "        glorot(self.initial_weight)\n",
        "\n",
        "\n",
        "    def _create_layers(self):\n",
        "\n",
        "        self.recurrent_layer = GRU(\n",
        "            input_size=self.in_channels, hidden_size=self.in_channels, num_layers=1\n",
        "        )\n",
        "        for param in self.recurrent_layer.parameters():\n",
        "            param.requires_grad = True\n",
        "            param.retain_grad()\n",
        "\n",
        "        self.conv_layer = GCNConv_Fixed_W(\n",
        "            in_channels=self.in_channels,\n",
        "            out_channels=self.in_channels,\n",
        "            improved=self.improved,\n",
        "            cached=self.cached,\n",
        "            normalize=self.normalize,\n",
        "            add_self_loops=self.add_self_loops\n",
        "        )\n",
        "\n",
        "        self.attention_layer = attention()\n",
        "\n",
        "    def forward(\n",
        "        self,\n",
        "        X: torch.FloatTensor,\n",
        "        edge_index: torch.LongTensor,\n",
        "        edge_weight: torch.FloatTensor = None,\n",
        "    ) -> torch.FloatTensor:\n",
        "\n",
        "        if self.weight is None:\n",
        "            self.weight = self.initial_weight.data\n",
        "        W = self.weight[None, :, :]\n",
        "        _, W = self.recurrent_layer(W, W)\n",
        "        X = self.conv_layer(W.squeeze(dim=0), X, edge_index, edge_weight)\n",
        "        X = self.attention_layer(X, edge_index)\n",
        "        return X"
      ],
      "metadata": {
        "id": "N2Id2RMDcE4k",
        "colab": {
          "base_uri": "https://localhost:8080/",
          "height": 53
        },
        "outputId": "b90ee4a6-ef8e-42ef-8c73-be6631e778b4"
      },
      "execution_count": null,
      "outputs": [
        {
          "output_type": "execute_result",
          "data": {
            "text/plain": [
              "'\\n        self.conv_layer = SpGAT(\\n                nfeat=self.in_channels, \\n                nhid=self.in_channels, \\n                nclass=2, \\n                dropout=0.6, #default values from  \\n                nheads=8, \\n                alpha=0.2\\n        )\\n'"
            ],
            "application/vnd.google.colaboratory.intrinsic+json": {
              "type": "string"
            }
          },
          "metadata": {},
          "execution_count": 34
        }
      ]
    },
    {
      "cell_type": "markdown",
      "source": [
        "### Model"
      ],
      "metadata": {
        "id": "4NZiYu5mI5T8"
      }
    },
    {
      "cell_type": "code",
      "source": [
        "device = torch.device('cuda' if torch.cuda.is_available() else 'cpu')"
      ],
      "metadata": {
        "id": "vwauB6VPYhTp"
      },
      "execution_count": null,
      "outputs": []
    },
    {
      "cell_type": "code",
      "source": [
        "num_nodes = dataset[0].num_nodes"
      ],
      "metadata": {
        "id": "LVyzI-cO4xud"
      },
      "execution_count": null,
      "outputs": []
    },
    {
      "cell_type": "code",
      "source": [
        "import torch\n",
        "import torch.nn.functional as F\n",
        "from torch_geometric_temporal.nn.recurrent import EvolveGCNO\n",
        "from torch_geometric.nn import GATConv\n",
        "import torch.nn as nn\n",
        "\n",
        "class EvolveGAT(torch.nn.Module):\n",
        "    def __init__(self, in_channels, emb_dim):\n",
        "        super(EvolveGAT, self).__init__()\n",
        "        self.linear = torch.nn.Linear(num_nodes, emb_dim)\n",
        "        self.relu = nn.ReLU()\n",
        "        self.recurrent = EvolveGCNO_(in_channels, add_self_loops=False, normalize=False)\n",
        "        \n",
        "    #forward propogation\n",
        "    def encode(self, x, edge_index, edge_weight):\n",
        "        h = self.linear(x)\n",
        "        h = F.relu(h)\n",
        "        h = self.recurrent(h, edge_index, edge_weight)\n",
        "        return h\n",
        "\n",
        "    #for edge classification (per edge)\n",
        "    def decode(self, z, pos_edge_index, neg_edge_index): # only pos and neg edges\n",
        "        edge_index = torch.cat([pos_edge_index, neg_edge_index], dim=-1) # concatenate pos and neg edges\n",
        "        logits = (z[edge_index[0]] * z[edge_index[1]]).sum(dim=-1)  # dot product \n",
        "        return logits\n",
        "\n",
        "    #for all edge \n",
        "    def decode_all(self, z): \n",
        "        prob_adj = z @ z.t() # get adj NxN\n",
        "        return (prob_adj > 0).nonzero(as_tuple=False).t() # get predicted edge_list \n"
      ],
      "metadata": {
        "id": "7EABedFRlOPM"
      },
      "execution_count": null,
      "outputs": []
    },
    {
      "cell_type": "code",
      "source": [
        ""
      ],
      "metadata": {
        "id": "aUBMmqEvPAJP"
      },
      "execution_count": null,
      "outputs": []
    },
    {
      "cell_type": "code",
      "source": [
        "print(dataset[0])\n",
        "temp = train_dataset[0].edge_attr\n",
        "print(temp)"
      ],
      "metadata": {
        "id": "o-Xw4iWvvjJk",
        "colab": {
          "base_uri": "https://localhost:8080/"
        },
        "outputId": "563842c6-d50c-4ef0-d75a-4c417be6f895"
      },
      "execution_count": null,
      "outputs": [
        {
          "output_type": "stream",
          "name": "stdout",
          "text": [
            "Data(edge_index=[2, 41], edge_attr=[41], num_nodes=6005)\n",
            "tensor([ 4,  2,  1,  7,  8,  8,  1,  5,  5,  5,  8,  8,  9,  7,  5,  1,  8,  7,\n",
            "         8,  1, 10,  7,  7,  1,  1,  3,  3,  1,  4,  2,  5,  5,  1,  2,  2,  2,\n",
            "         2,  2,  1,  2,  1])\n"
          ]
        }
      ]
    },
    {
      "cell_type": "code",
      "source": [
        ""
      ],
      "metadata": {
        "id": "YGCCxhKFAnKv"
      },
      "execution_count": null,
      "outputs": []
    },
    {
      "cell_type": "markdown",
      "source": [
        "### Data Management For Model"
      ],
      "metadata": {
        "id": "SICVajsIY9og"
      }
    },
    {
      "cell_type": "code",
      "source": [
        "from torch_geometric.utils import train_test_split_edges\n",
        "from torch_geometric.utils import negative_sampling\n",
        "import torch.nn.functional as F"
      ],
      "metadata": {
        "id": "--rTJJ6iMrXz"
      },
      "execution_count": null,
      "outputs": []
    },
    {
      "cell_type": "code",
      "source": [
        "def get_link_labels(pos_edge_index, neg_edge_index):\n",
        "    # returns a tensor:\n",
        "    # [1,1,1,1,...,0,0,0,0,0,..] with the number of ones is equel to the lenght of pos_edge_index\n",
        "    # and the number of zeros is equal to the length of neg_edge_index\n",
        "    E = pos_edge_index.size(1) + neg_edge_index.size(1)\n",
        "    link_labels = torch.zeros(E, dtype=torch.float, device=device)\n",
        "    link_labels[:pos_edge_index.size(1)] = 1.\n",
        "    return link_labels"
      ],
      "metadata": {
        "id": "YMAgCXy5StxY"
      },
      "execution_count": null,
      "outputs": []
    },
    {
      "cell_type": "code",
      "source": [
        "neg_edge_index = negative_sampling(\n",
        "    edge_index = dataset[0].edge_index, #positive edges\n",
        "    num_nodes = dataset[0].num_nodes, # number of nodes\n",
        "    num_neg_samples = dataset[0].edge_index.size(1)\n",
        ") \n",
        "pos_edge_index = dataset[0].edge_index"
      ],
      "metadata": {
        "id": "dOUDPt2_Wyeq"
      },
      "execution_count": null,
      "outputs": []
    },
    {
      "cell_type": "code",
      "source": [
        "#Check fns.\n",
        "print(pos_edge_index.size())\n",
        "print(neg_edge_index.size())\n",
        "E = pos_edge_index.size(1) + neg_edge_index.size(1)\n",
        "link_labels = torch.zeros(E, dtype=torch.float, device=device)\n",
        "link_labels[:pos_edge_index.size(1)] = 1.\n",
        "print(link_labels)"
      ],
      "metadata": {
        "colab": {
          "base_uri": "https://localhost:8080/"
        },
        "id": "WMUyaA4kW5OR",
        "outputId": "f54a586a-6205-4b61-c5fa-c67097e7046a"
      },
      "execution_count": null,
      "outputs": [
        {
          "output_type": "stream",
          "name": "stdout",
          "text": [
            "torch.Size([2, 41])\n",
            "torch.Size([2, 41])\n",
            "tensor([1., 1., 1., 1., 1., 1., 1., 1., 1., 1., 1., 1., 1., 1., 1., 1., 1., 1.,\n",
            "        1., 1., 1., 1., 1., 1., 1., 1., 1., 1., 1., 1., 1., 1., 1., 1., 1., 1.,\n",
            "        1., 1., 1., 1., 1., 0., 0., 0., 0., 0., 0., 0., 0., 0., 0., 0., 0., 0.,\n",
            "        0., 0., 0., 0., 0., 0., 0., 0., 0., 0., 0., 0., 0., 0., 0., 0., 0., 0.,\n",
            "        0., 0., 0., 0., 0., 0., 0., 0., 0., 0.], device='cuda:0')\n"
          ]
        }
      ]
    },
    {
      "cell_type": "code",
      "source": [
        ""
      ],
      "metadata": {
        "id": "wVcIkSJRW5BU"
      },
      "execution_count": null,
      "outputs": []
    },
    {
      "cell_type": "code",
      "source": [
        "\n"
      ],
      "metadata": {
        "id": "ps5eLpIxXP5-"
      },
      "execution_count": null,
      "outputs": []
    },
    {
      "cell_type": "markdown",
      "source": [
        "### Model Train"
      ],
      "metadata": {
        "id": "ptYB_JtxWyLQ"
      }
    },
    {
      "cell_type": "code",
      "source": [
        "#Hyperparameters\n",
        "emb_dim = 30"
      ],
      "metadata": {
        "id": "bgPTQiaXYU1N"
      },
      "execution_count": null,
      "outputs": []
    },
    {
      "cell_type": "code",
      "source": [
        "from tqdm import tqdm\n",
        "model = EvolveGAT(in_channels = emb_dim, emb_dim = emb_dim).to(device)\n",
        "optimizer = torch.optim.Adam(model.parameters(), lr = 0.01)\n",
        "\n",
        "def train():\n",
        "    for epoch in tqdm(range(40)):\n",
        "        cost = 0\n",
        "        for time, snapshot in enumerate(train_dataset):\n",
        "            adj_mat = snap_to_adjmat(snapshot).to(device)\n",
        "            next_snap = dataset[time]\n",
        "\n",
        "            neg_edge_index = negative_sampling(\n",
        "                edge_index = next_snap.edge_index, #positive edges\n",
        "                num_nodes = next_snap.num_nodes, # number of nodes\n",
        "                num_neg_samples = next_snap.edge_index.size(1)\n",
        "                ) # number of neg_sample equal to number of pos_edges\n",
        "\n",
        "            optimizer.zero_grad()\n",
        "\n",
        "            y_hat = model.encode(adj_mat, snapshot.edge_index.to(device), edge_weight = None)\n",
        "            link_logits = model.decode(y_hat, next_snap.edge_index, neg_edge_index) # decode\n",
        "            link_labels = get_link_labels(next_snap.edge_index, neg_edge_index)\n",
        "            \n",
        "            loss = F.binary_cross_entropy_with_logits(link_logits, link_labels)\n",
        "            loss.backward()\n",
        "            cost += loss.item()\n",
        "            optimizer.step()\n",
        "        cost /= len(train_dataset) \n",
        "        print(f'Time: {epoch}', f'Cost: {cost}')\n",
        "    return cost\n",
        "#torch.autograd.set_detect_anomaly(True)\n",
        "train()"
      ],
      "metadata": {
        "colab": {
          "base_uri": "https://localhost:8080/"
        },
        "id": "ZhX-A8xYnLre",
        "outputId": "9786eaf5-1046-4afa-d62d-ebc3c8e5a043"
      },
      "execution_count": null,
      "outputs": [
        {
          "output_type": "stream",
          "name": "stderr",
          "text": [
            "  2%|▏         | 1/50 [01:40<1:21:55, 100.32s/it]"
          ]
        },
        {
          "output_type": "stream",
          "name": "stdout",
          "text": [
            "Time: 0 Cost: 0.43181128054857254\n"
          ]
        },
        {
          "output_type": "stream",
          "name": "stderr",
          "text": [
            "\r  4%|▍         | 2/50 [03:18<1:19:23, 99.25s/it] "
          ]
        },
        {
          "output_type": "stream",
          "name": "stdout",
          "text": [
            "Time: 1 Cost: 0.4185380510985851\n"
          ]
        },
        {
          "output_type": "stream",
          "name": "stderr",
          "text": [
            "\r  6%|▌         | 3/50 [04:58<1:17:55, 99.47s/it]"
          ]
        },
        {
          "output_type": "stream",
          "name": "stdout",
          "text": [
            "Time: 2 Cost: 0.4151862941682339\n"
          ]
        },
        {
          "output_type": "stream",
          "name": "stderr",
          "text": [
            "\r  8%|▊         | 4/50 [06:36<1:15:56, 99.04s/it]"
          ]
        },
        {
          "output_type": "stream",
          "name": "stdout",
          "text": [
            "Time: 3 Cost: 0.3893723927438259\n"
          ]
        },
        {
          "output_type": "stream",
          "name": "stderr",
          "text": [
            "\r 10%|█         | 5/50 [08:15<1:14:10, 98.90s/it]"
          ]
        },
        {
          "output_type": "stream",
          "name": "stdout",
          "text": [
            "Time: 4 Cost: 0.3800937652587891\n"
          ]
        },
        {
          "output_type": "stream",
          "name": "stderr",
          "text": [
            "\r 12%|█▏        | 6/50 [09:53<1:12:20, 98.64s/it]"
          ]
        },
        {
          "output_type": "stream",
          "name": "stdout",
          "text": [
            "Time: 5 Cost: 0.3823803015053272\n"
          ]
        },
        {
          "output_type": "stream",
          "name": "stderr",
          "text": [
            "\r 14%|█▍        | 7/50 [11:32<1:10:44, 98.70s/it]"
          ]
        },
        {
          "output_type": "stream",
          "name": "stdout",
          "text": [
            "Time: 6 Cost: 0.37691049128770826\n"
          ]
        },
        {
          "output_type": "stream",
          "name": "stderr",
          "text": [
            "\r 16%|█▌        | 8/50 [13:12<1:09:20, 99.05s/it]"
          ]
        },
        {
          "output_type": "stream",
          "name": "stdout",
          "text": [
            "Time: 7 Cost: 0.3772221468389034\n"
          ]
        },
        {
          "output_type": "stream",
          "name": "stderr",
          "text": [
            "\r 18%|█▊        | 9/50 [14:51<1:07:40, 99.03s/it]"
          ]
        },
        {
          "output_type": "stream",
          "name": "stdout",
          "text": [
            "Time: 8 Cost: 0.3790250033140182\n"
          ]
        },
        {
          "output_type": "stream",
          "name": "stderr",
          "text": [
            "\r 20%|██        | 10/50 [16:30<1:05:59, 98.98s/it]"
          ]
        },
        {
          "output_type": "stream",
          "name": "stdout",
          "text": [
            "Time: 9 Cost: 0.3790446422994137\n"
          ]
        },
        {
          "output_type": "stream",
          "name": "stderr",
          "text": [
            "\r 22%|██▏       | 11/50 [18:09<1:04:28, 99.18s/it]"
          ]
        },
        {
          "output_type": "stream",
          "name": "stdout",
          "text": [
            "Time: 10 Cost: 0.37802025601267814\n"
          ]
        },
        {
          "output_type": "stream",
          "name": "stderr",
          "text": [
            "\r 24%|██▍       | 12/50 [19:48<1:02:44, 99.08s/it]"
          ]
        },
        {
          "output_type": "stream",
          "name": "stdout",
          "text": [
            "Time: 11 Cost: 0.37682171911001205\n"
          ]
        },
        {
          "output_type": "stream",
          "name": "stderr",
          "text": [
            "\r 26%|██▌       | 13/50 [21:27<1:01:06, 99.11s/it]"
          ]
        },
        {
          "output_type": "stream",
          "name": "stdout",
          "text": [
            "Time: 12 Cost: 0.3756719626486301\n"
          ]
        },
        {
          "output_type": "stream",
          "name": "stderr",
          "text": [
            "\r 28%|██▊       | 14/50 [23:06<59:26, 99.08s/it]  "
          ]
        },
        {
          "output_type": "stream",
          "name": "stdout",
          "text": [
            "Time: 13 Cost: 0.37463493198156356\n"
          ]
        },
        {
          "output_type": "stream",
          "name": "stderr",
          "text": [
            "\r 30%|███       | 15/50 [24:45<57:44, 98.99s/it]"
          ]
        },
        {
          "output_type": "stream",
          "name": "stdout",
          "text": [
            "Time: 14 Cost: 0.3773350790143013\n"
          ]
        },
        {
          "output_type": "stream",
          "name": "stderr",
          "text": [
            "\r 32%|███▏      | 16/50 [26:24<56:09, 99.09s/it]"
          ]
        },
        {
          "output_type": "stream",
          "name": "stdout",
          "text": [
            "Time: 15 Cost: 0.3705818973481655\n"
          ]
        },
        {
          "output_type": "stream",
          "name": "stderr",
          "text": [
            "\r 34%|███▍      | 17/50 [28:03<54:28, 99.05s/it]"
          ]
        },
        {
          "output_type": "stream",
          "name": "stdout",
          "text": [
            "Time: 16 Cost: 0.36923332437872886\n"
          ]
        },
        {
          "output_type": "stream",
          "name": "stderr",
          "text": [
            "\r 36%|███▌      | 18/50 [29:43<52:53, 99.18s/it]"
          ]
        },
        {
          "output_type": "stream",
          "name": "stdout",
          "text": [
            "Time: 17 Cost: 0.36887292116880416\n"
          ]
        },
        {
          "output_type": "stream",
          "name": "stderr",
          "text": [
            "\r 38%|███▊      | 19/50 [31:22<51:13, 99.13s/it]"
          ]
        },
        {
          "output_type": "stream",
          "name": "stdout",
          "text": [
            "Time: 18 Cost: 0.3681538440287113\n"
          ]
        },
        {
          "output_type": "stream",
          "name": "stderr",
          "text": [
            "\r 40%|████      | 20/50 [33:01<49:29, 98.98s/it]"
          ]
        },
        {
          "output_type": "stream",
          "name": "stdout",
          "text": [
            "Time: 19 Cost: 0.3702299542725086\n"
          ]
        },
        {
          "output_type": "stream",
          "name": "stderr",
          "text": [
            "\r 42%|████▏     | 21/50 [34:39<47:47, 98.87s/it]"
          ]
        },
        {
          "output_type": "stream",
          "name": "stdout",
          "text": [
            "Time: 20 Cost: 0.36958000883460046\n"
          ]
        },
        {
          "output_type": "stream",
          "name": "stderr",
          "text": [
            "\r 44%|████▍     | 22/50 [36:18<46:05, 98.78s/it]"
          ]
        },
        {
          "output_type": "stream",
          "name": "stdout",
          "text": [
            "Time: 21 Cost: 0.3706121489405632\n"
          ]
        },
        {
          "output_type": "stream",
          "name": "stderr",
          "text": [
            "\r 46%|████▌     | 23/50 [37:57<44:31, 98.94s/it]"
          ]
        },
        {
          "output_type": "stream",
          "name": "stdout",
          "text": [
            "Time: 22 Cost: 0.37017885893583297\n"
          ]
        },
        {
          "output_type": "stream",
          "name": "stderr",
          "text": [
            "\r 48%|████▊     | 24/50 [39:37<42:58, 99.19s/it]"
          ]
        },
        {
          "output_type": "stream",
          "name": "stdout",
          "text": [
            "Time: 23 Cost: 0.3697451837360859\n"
          ]
        },
        {
          "output_type": "stream",
          "name": "stderr",
          "text": [
            "\r 50%|█████     | 25/50 [41:15<41:15, 99.01s/it]"
          ]
        },
        {
          "output_type": "stream",
          "name": "stdout",
          "text": [
            "Time: 24 Cost: 0.368145740032196\n"
          ]
        },
        {
          "output_type": "stream",
          "name": "stderr",
          "text": [
            "\r 52%|█████▏    | 26/50 [42:54<39:32, 98.86s/it]"
          ]
        },
        {
          "output_type": "stream",
          "name": "stdout",
          "text": [
            "Time: 25 Cost: 0.3668283671140671\n"
          ]
        },
        {
          "output_type": "stream",
          "name": "stderr",
          "text": [
            "\r 54%|█████▍    | 27/50 [44:32<37:45, 98.52s/it]"
          ]
        },
        {
          "output_type": "stream",
          "name": "stdout",
          "text": [
            "Time: 26 Cost: 0.36494009345769884\n"
          ]
        },
        {
          "output_type": "stream",
          "name": "stderr",
          "text": [
            "\r 56%|█████▌    | 28/50 [46:11<36:11, 98.71s/it]"
          ]
        },
        {
          "output_type": "stream",
          "name": "stdout",
          "text": [
            "Time: 27 Cost: 0.367618328332901\n"
          ]
        },
        {
          "output_type": "stream",
          "name": "stderr",
          "text": [
            "\r 58%|█████▊    | 29/50 [47:50<34:36, 98.90s/it]"
          ]
        },
        {
          "output_type": "stream",
          "name": "stdout",
          "text": [
            "Time: 28 Cost: 0.36470541208982465\n"
          ]
        },
        {
          "output_type": "stream",
          "name": "stderr",
          "text": [
            "\r 60%|██████    | 30/50 [49:29<32:58, 98.95s/it]"
          ]
        },
        {
          "output_type": "stream",
          "name": "stdout",
          "text": [
            "Time: 29 Cost: 0.36649085730314257\n"
          ]
        },
        {
          "output_type": "stream",
          "name": "stderr",
          "text": [
            "\r 62%|██████▏   | 31/50 [51:09<31:24, 99.21s/it]"
          ]
        },
        {
          "output_type": "stream",
          "name": "stdout",
          "text": [
            "Time: 30 Cost: 0.36543415263295176\n"
          ]
        },
        {
          "output_type": "stream",
          "name": "stderr",
          "text": [
            "\r 64%|██████▍   | 32/50 [52:48<29:43, 99.08s/it]"
          ]
        },
        {
          "output_type": "stream",
          "name": "stdout",
          "text": [
            "Time: 31 Cost: 0.3649141475558281\n"
          ]
        },
        {
          "output_type": "stream",
          "name": "stderr",
          "text": [
            "\r 66%|██████▌   | 33/50 [54:27<28:05, 99.16s/it]"
          ]
        },
        {
          "output_type": "stream",
          "name": "stdout",
          "text": [
            "Time: 32 Cost: 0.3642993800342083\n"
          ]
        },
        {
          "output_type": "stream",
          "name": "stderr",
          "text": [
            "\r 68%|██████▊   | 34/50 [56:06<26:26, 99.14s/it]"
          ]
        },
        {
          "output_type": "stream",
          "name": "stdout",
          "text": [
            "Time: 33 Cost: 0.36460934579372406\n"
          ]
        },
        {
          "output_type": "stream",
          "name": "stderr",
          "text": [
            "\r 70%|███████   | 35/50 [57:45<24:46, 99.08s/it]"
          ]
        },
        {
          "output_type": "stream",
          "name": "stdout",
          "text": [
            "Time: 34 Cost: 0.36325785219669343\n"
          ]
        },
        {
          "output_type": "stream",
          "name": "stderr",
          "text": [
            "\r 72%|███████▏  | 36/50 [59:24<23:04, 98.92s/it]"
          ]
        },
        {
          "output_type": "stream",
          "name": "stdout",
          "text": [
            "Time: 35 Cost: 0.3637052491307259\n"
          ]
        },
        {
          "output_type": "stream",
          "name": "stderr",
          "text": [
            "\r 74%|███████▍  | 37/50 [1:01:03<21:27, 99.00s/it]"
          ]
        },
        {
          "output_type": "stream",
          "name": "stdout",
          "text": [
            "Time: 36 Cost: 0.3645926706492901\n"
          ]
        },
        {
          "output_type": "stream",
          "name": "stderr",
          "text": [
            "\r 76%|███████▌  | 38/50 [1:02:42<19:47, 98.98s/it]"
          ]
        },
        {
          "output_type": "stream",
          "name": "stdout",
          "text": [
            "Time: 37 Cost: 0.36390090435743333\n"
          ]
        },
        {
          "output_type": "stream",
          "name": "stderr",
          "text": [
            "\r 78%|███████▊  | 39/50 [1:04:21<18:09, 99.01s/it]"
          ]
        },
        {
          "output_type": "stream",
          "name": "stdout",
          "text": [
            "Time: 38 Cost: 0.364127204567194\n"
          ]
        },
        {
          "output_type": "stream",
          "name": "stderr",
          "text": [
            "\r 80%|████████  | 40/50 [1:06:00<16:30, 99.10s/it]"
          ]
        },
        {
          "output_type": "stream",
          "name": "stdout",
          "text": [
            "Time: 39 Cost: 0.3625972345471382\n"
          ]
        },
        {
          "output_type": "stream",
          "name": "stderr",
          "text": [
            "\r 82%|████████▏ | 41/50 [1:07:39<14:51, 99.03s/it]"
          ]
        },
        {
          "output_type": "stream",
          "name": "stdout",
          "text": [
            "Time: 40 Cost: 0.3673220410943031\n"
          ]
        },
        {
          "output_type": "stream",
          "name": "stderr",
          "text": [
            "\r 84%|████████▍ | 42/50 [1:09:17<13:10, 98.77s/it]"
          ]
        },
        {
          "output_type": "stream",
          "name": "stdout",
          "text": [
            "Time: 41 Cost: 0.3677921012043953\n"
          ]
        },
        {
          "output_type": "stream",
          "name": "stderr",
          "text": [
            "\r 86%|████████▌ | 43/50 [1:10:56<11:31, 98.77s/it]"
          ]
        },
        {
          "output_type": "stream",
          "name": "stdout",
          "text": [
            "Time: 42 Cost: 0.3664707370102406\n"
          ]
        },
        {
          "output_type": "stream",
          "name": "stderr",
          "text": [
            "\r 88%|████████▊ | 44/50 [1:12:35<09:52, 98.75s/it]"
          ]
        },
        {
          "output_type": "stream",
          "name": "stdout",
          "text": [
            "Time: 43 Cost: 0.36626588776707647\n"
          ]
        },
        {
          "output_type": "stream",
          "name": "stderr",
          "text": [
            "\r 90%|█████████ | 45/50 [1:14:13<08:12, 98.56s/it]"
          ]
        },
        {
          "output_type": "stream",
          "name": "stdout",
          "text": [
            "Time: 44 Cost: 0.3699267327785492\n"
          ]
        },
        {
          "output_type": "stream",
          "name": "stderr",
          "text": [
            "\r 92%|█████████▏| 46/50 [1:15:51<06:34, 98.52s/it]"
          ]
        },
        {
          "output_type": "stream",
          "name": "stdout",
          "text": [
            "Time: 45 Cost: 0.37135693728923796\n"
          ]
        },
        {
          "output_type": "stream",
          "name": "stderr",
          "text": [
            "\r 94%|█████████▍| 47/50 [1:17:29<04:54, 98.24s/it]"
          ]
        },
        {
          "output_type": "stream",
          "name": "stdout",
          "text": [
            "Time: 46 Cost: 0.3672455795109272\n"
          ]
        },
        {
          "output_type": "stream",
          "name": "stderr",
          "text": [
            "\r 96%|█████████▌| 48/50 [1:19:07<03:16, 98.09s/it]"
          ]
        },
        {
          "output_type": "stream",
          "name": "stdout",
          "text": [
            "Time: 47 Cost: 0.3683765411376953\n"
          ]
        },
        {
          "output_type": "stream",
          "name": "stderr",
          "text": [
            "\r 98%|█████████▊| 49/50 [1:20:46<01:38, 98.34s/it]"
          ]
        },
        {
          "output_type": "stream",
          "name": "stdout",
          "text": [
            "Time: 48 Cost: 0.3661900669336319\n"
          ]
        },
        {
          "output_type": "stream",
          "name": "stderr",
          "text": [
            "100%|██████████| 50/50 [1:22:24<00:00, 98.90s/it]"
          ]
        },
        {
          "output_type": "stream",
          "name": "stdout",
          "text": [
            "Time: 49 Cost: 0.3659305527806282\n"
          ]
        },
        {
          "output_type": "stream",
          "name": "stderr",
          "text": [
            "\n"
          ]
        },
        {
          "output_type": "execute_result",
          "data": {
            "text/plain": [
              "0.3659305527806282"
            ]
          },
          "metadata": {},
          "execution_count": 35
        }
      ]
    },
    {
      "cell_type": "code",
      "source": [
        ""
      ],
      "metadata": {
        "id": "C-EpQwzwWWOm"
      },
      "execution_count": null,
      "outputs": []
    },
    {
      "cell_type": "code",
      "source": [
        ""
      ],
      "metadata": {
        "id": "3B7j1xxQZy5W"
      },
      "execution_count": null,
      "outputs": []
    },
    {
      "cell_type": "markdown",
      "source": [
        "### Model Test"
      ],
      "metadata": {
        "id": "oM7ADuo4ZymC"
      }
    },
    {
      "cell_type": "code",
      "source": [
        "from sklearn.metrics import roc_auc_score, precision_score, recall_score"
      ],
      "metadata": {
        "id": "XA7Owi4SnbId"
      },
      "execution_count": null,
      "outputs": []
    },
    {
      "cell_type": "code",
      "source": [
        "model.eval()"
      ],
      "metadata": {
        "colab": {
          "base_uri": "https://localhost:8080/"
        },
        "id": "G7D9npzHqusQ",
        "outputId": "6c935aab-b0b5-4bde-e6a7-0abf9b8ddc09"
      },
      "execution_count": null,
      "outputs": [
        {
          "output_type": "execute_result",
          "data": {
            "text/plain": [
              "EvolveGAT(\n",
              "  (linear): Linear(in_features=6005, out_features=30, bias=True)\n",
              "  (relu): ReLU()\n",
              "  (recurrent): EvolveGCNO_(\n",
              "    (recurrent_layer): GRU(30, 30)\n",
              "    (conv_layer): GCNConv_Fixed_W(30, 30)\n",
              "    (attention_layer): attention()\n",
              "  )\n",
              ")"
            ]
          },
          "metadata": {},
          "execution_count": 37
        }
      ]
    },
    {
      "cell_type": "code",
      "source": [
        "print('AUC Score')\n",
        "@torch.no_grad()\n",
        "def test():\n",
        "    perf = []\n",
        "    for time, snapshot in enumerate(test_dataset[:-1]):\n",
        "        adj_mat = snap_to_adjmat(snapshot).to(device)\n",
        "        next_snap = dataset[time]\n",
        "\n",
        "        pos_edge_index = next_snap.edge_index\n",
        "        neg_edge_index = negative_sampling(\n",
        "            edge_index = next_snap.edge_index, #positive edges\n",
        "            num_nodes = next_snap.num_nodes, # number of nodes\n",
        "            num_neg_samples = next_snap.edge_index.size(1)\n",
        "            ) # number of neg_sample equal to number of pos_edges\n",
        "\n",
        "\n",
        "        y_hat = model.encode(adj_mat, snapshot.edge_index.to(device), edge_weight = None)\n",
        "        link_logits = model.decode(y_hat, next_snap.edge_index, neg_edge_index) # decode\n",
        "        link_probs = link_logits.sigmoid() # apply sigmoid\n",
        "        link_labels = get_link_labels(next_snap.edge_index, neg_edge_index)\n",
        "        \n",
        "        auc = roc_auc_score(link_labels.cpu(), link_probs.cpu())\n",
        "        print(f'Time: {time} -> AUC: {auc}')\n",
        "        perf.append(roc_auc_score(link_labels.cpu(), link_probs.cpu())) #compute roc_auc score \n",
        "    return perf\n",
        "perf = test()"
      ],
      "metadata": {
        "colab": {
          "base_uri": "https://localhost:8080/"
        },
        "id": "hka4jD9JnFT4",
        "outputId": "c390313e-ef8c-4675-8f9b-04a4b49e5d10"
      },
      "execution_count": null,
      "outputs": [
        {
          "output_type": "stream",
          "name": "stdout",
          "text": [
            "AUC Score\n",
            "Time: 0 -> AUC: 0.5627602617489589\n",
            "Time: 1 -> AUC: 0.6180555555555556\n",
            "Time: 2 -> AUC: 0.6039603960396039\n",
            "Time: 3 -> AUC: 0.5948228634039444\n",
            "Time: 4 -> AUC: 0.5705174927113703\n",
            "Time: 5 -> AUC: 0.5533479321333831\n",
            "Time: 6 -> AUC: 0.5600595151691101\n",
            "Time: 7 -> AUC: 0.542219257448605\n",
            "Time: 8 -> AUC: 0.5349086969093261\n"
          ]
        }
      ]
    },
    {
      "cell_type": "code",
      "source": [
        ""
      ],
      "metadata": {
        "id": "K53sjs10nPHk"
      },
      "execution_count": null,
      "outputs": []
    }
  ]
}